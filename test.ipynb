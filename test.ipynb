{
 "cells": [
  {
   "cell_type": "code",
   "execution_count": 12,
   "metadata": {
    "collapsed": true
   },
   "outputs": [],
   "source": [
    "import numpy as np\n",
    "import pandas as pd\n",
    "import time\n",
    "import matplotlib.pyplot as plt\n",
    "import warnings\n",
    "\n",
    "from sklearn.datasets import make_blobs, make_circles\n",
    "from sklearn.neighbors import KNeighborsClassifier\n",
    "from sklearn.metrics import zero_one_loss\n",
    "from sklearn.metrics import accuracy_score\n",
    "\n",
    "\n",
    "warnings.filterwarnings('ignore')\n",
    "%matplotlib inline"
   ]
  },
  {
   "cell_type": "code",
   "execution_count": 6,
   "metadata": {
    "collapsed": false
   },
   "outputs": [],
   "source": [
    "##Извлечем информацию из файла\n",
    "\n",
    "dtrain = pd.read_csv('/home/volkov/hard_mnist/hard_train.txt', header = None, sep = '\\\\s+')\n",
    "dlabels = pd.read_csv('/home/volkov/hard_mnist/hard_train_labels.txt', header = None, sep = '\\\\s+')"
   ]
  },
  {
   "cell_type": "code",
   "execution_count": 13,
   "metadata": {
    "collapsed": false
   },
   "outputs": [],
   "source": [
    "X_test = dtrain[10000:11000]\n",
    "y_test = dlabels[10000:11000]"
   ]
  },
  {
   "cell_type": "code",
   "execution_count": 14,
   "metadata": {
    "collapsed": true
   },
   "outputs": [],
   "source": [
    "def knn_algorithm(X_train, y_train, X_test, y_test, N=-1, **nargs):\n",
    "    X_train = X_train[:N]\n",
    "    y_train = y_train[:N]\n",
    "    start = time.time()\n",
    "    model = KNeighborsClassifier(**nargs)\n",
    "    model.fit(X_train, y_train)\n",
    "    fraction_misclassifications = zero_one_loss(y_test, model.predict(X_test))\n",
    "    end = time.time()\n",
    "    return(fraction_misclassifications, end-start)"
   ]
  },
  {
   "cell_type": "code",
   "execution_count": null,
   "metadata": {
    "collapsed": false
   },
   "outputs": [],
   "source": [
    "f = open('knn1.txt', 'a')\n",
    "for j in range(1, 6):\n",
    "    for i in range(1, 21):\n",
    "        error_with_time = knn_algorithm(dtrain, dlabels, X_test, y_test, N=2000*j, n_neighbors=i, algorithm='brute')\n",
    "        f.write(str(i) + ' ' + ' '.join(map(str, error_with_time)) + '\\n')\n",
    "f.close()"
   ]
  },
  {
   "cell_type": "code",
   "execution_count": null,
   "metadata": {
    "collapsed": false
   },
   "outputs": [],
   "source": [
    "f = pd.read_csv('knn2.txt', header = None, sep = '\\\\s+')\n",
    "accuracy = 1 - np.array(f[:][1])\n",
    "k = np.array(f[:][0])\n",
    "time = np.array(f[:][2])"
   ]
  },
  {
   "cell_type": "code",
   "execution_count": null,
   "metadata": {
    "collapsed": true
   },
   "outputs": [],
   "source": [
    "plt.figure(figsize=(15,8))\n",
    "plt.ylabel(\"accuracy\", fontsize=15)\n",
    "plt.xlabel(\"k\", fontsize=15)\n",
    "\n",
    "for i in range(5):\n",
    "    plt.plot(k[i*20:20*(i+1)], accuracy[i*20:20*(i+1)])\n",
    "    \n",
    "plt.legend(['size = 2000', 'size = 4000', 'size = 5000', 'size = 6000'], loc='down right')"
   ]
  },
  {
   "cell_type": "code",
   "execution_count": null,
   "metadata": {
    "collapsed": true
   },
   "outputs": [],
   "source": [
    "plt.figure(figsize=(15,8))\n",
    "plt.ylabel(\"time\", fontsize=15)\n",
    "plt.xlabel(\"size of data set\", fontsize=15)\n",
    "\n",
    "time_partition = [[time[20*i+j] for i in range(5)] for j in range(5)]\n",
    "size_of_data_set = [i*2000 for i in range(1, 6)]\n",
    "\n",
    "for i in range(5):\n",
    "    plt.plot(size_of_data_set, time_partition[i])\n",
    "    \n",
    "plt.legend(['k = 1', 'size = 2', 'size = 3', 'size = 4', 'k = 5'], loc='down right')"
   ]
  }
 ],
 "metadata": {
  "kernelspec": {
   "display_name": "Python 3",
   "language": "python",
   "name": "python3"
  },
  "language_info": {
   "codemirror_mode": {
    "name": "ipython",
    "version": 3
   },
   "file_extension": ".py",
   "mimetype": "text/x-python",
   "name": "python",
   "nbconvert_exporter": "python",
   "pygments_lexer": "ipython3",
   "version": "3.4.3"
  }
 },
 "nbformat": 4,
 "nbformat_minor": 0
}
